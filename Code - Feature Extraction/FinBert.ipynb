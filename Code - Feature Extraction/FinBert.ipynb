{
 "cells": [
  {
   "cell_type": "code",
   "execution_count": 1,
   "metadata": {},
   "outputs": [
    {
     "name": "stdout",
     "output_type": "stream",
     "text": [
      "Requirement already satisfied: transformers in /Users/ThanawanLert/opt/anaconda3/lib/python3.9/site-packages (4.27.2)\n",
      "Requirement already satisfied: huggingface-hub<1.0,>=0.11.0 in /Users/ThanawanLert/opt/anaconda3/lib/python3.9/site-packages (from transformers) (0.13.3)\n",
      "Requirement already satisfied: tqdm>=4.27 in /Users/ThanawanLert/opt/anaconda3/lib/python3.9/site-packages (from transformers) (4.64.0)\n",
      "Requirement already satisfied: numpy>=1.17 in /Users/ThanawanLert/opt/anaconda3/lib/python3.9/site-packages (from transformers) (1.21.5)\n",
      "Requirement already satisfied: packaging>=20.0 in /Users/ThanawanLert/opt/anaconda3/lib/python3.9/site-packages (from transformers) (21.3)\n",
      "Requirement already satisfied: pyyaml>=5.1 in /Users/ThanawanLert/opt/anaconda3/lib/python3.9/site-packages (from transformers) (6.0)\n",
      "Requirement already satisfied: tokenizers!=0.11.3,<0.14,>=0.11.1 in /Users/ThanawanLert/opt/anaconda3/lib/python3.9/site-packages (from transformers) (0.13.2)\n",
      "Requirement already satisfied: filelock in /Users/ThanawanLert/opt/anaconda3/lib/python3.9/site-packages (from transformers) (3.6.0)\n",
      "Requirement already satisfied: requests in /Users/ThanawanLert/opt/anaconda3/lib/python3.9/site-packages (from transformers) (2.27.1)\n",
      "Requirement already satisfied: regex!=2019.12.17 in /Users/ThanawanLert/opt/anaconda3/lib/python3.9/site-packages (from transformers) (2022.3.15)\n",
      "Requirement already satisfied: typing-extensions>=3.7.4.3 in /Users/ThanawanLert/opt/anaconda3/lib/python3.9/site-packages (from huggingface-hub<1.0,>=0.11.0->transformers) (4.1.1)\n",
      "Requirement already satisfied: pyparsing!=3.0.5,>=2.0.2 in /Users/ThanawanLert/opt/anaconda3/lib/python3.9/site-packages (from packaging>=20.0->transformers) (3.0.4)\n",
      "Requirement already satisfied: urllib3<1.27,>=1.21.1 in /Users/ThanawanLert/opt/anaconda3/lib/python3.9/site-packages (from requests->transformers) (1.26.9)\n",
      "Requirement already satisfied: idna<4,>=2.5 in /Users/ThanawanLert/opt/anaconda3/lib/python3.9/site-packages (from requests->transformers) (3.3)\n",
      "Requirement already satisfied: charset-normalizer~=2.0.0 in /Users/ThanawanLert/opt/anaconda3/lib/python3.9/site-packages (from requests->transformers) (2.0.4)\n",
      "Requirement already satisfied: certifi>=2017.4.17 in /Users/ThanawanLert/opt/anaconda3/lib/python3.9/site-packages (from requests->transformers) (2022.12.7)\n"
     ]
    }
   ],
   "source": [
    "!pip install transformers"
   ]
  },
  {
   "cell_type": "code",
   "execution_count": 1,
   "metadata": {},
   "outputs": [],
   "source": [
    "import pandas as pd\n",
    "import numpy as np\n",
    "import torch\n",
    "from transformers import AutoTokenizer, AutoModelForSequenceClassification"
   ]
  },
  {
   "cell_type": "code",
   "execution_count": 2,
   "metadata": {},
   "outputs": [],
   "source": [
    "df = pd.read_excel(\"data_financial reports.xlsx\")"
   ]
  },
  {
   "cell_type": "code",
   "execution_count": 3,
   "metadata": {},
   "outputs": [],
   "source": [
    "# convert them to a normal Python list containing the headlines.\n",
    "df_array = np.array(df.iloc[:100,4])"
   ]
  },
  {
   "cell_type": "code",
   "execution_count": 6,
   "metadata": {},
   "outputs": [],
   "source": [
    "content_list = list(df_array.astype(str))"
   ]
  },
  {
   "cell_type": "code",
   "execution_count": 7,
   "metadata": {},
   "outputs": [],
   "source": [
    "tokenizer = AutoTokenizer.from_pretrained(\"ProsusAI/finbert\")\n",
    "model = AutoModelForSequenceClassification.from_pretrained(\"ProsusAI/finbert\")"
   ]
  },
  {
   "cell_type": "code",
   "execution_count": 8,
   "metadata": {},
   "outputs": [],
   "source": [
    "inputs = tokenizer(content_list, padding = True, truncation = True, return_tensors='pt')"
   ]
  },
  {
   "cell_type": "code",
   "execution_count": 9,
   "metadata": {},
   "outputs": [
    {
     "name": "stdout",
     "output_type": "stream",
     "text": [
      "torch.Size([100, 3])\n"
     ]
    }
   ],
   "source": [
    "outputs = model(**inputs)\n",
    "print(outputs.logits.shape)"
   ]
  },
  {
   "cell_type": "code",
   "execution_count": 10,
   "metadata": {},
   "outputs": [
    {
     "name": "stdout",
     "output_type": "stream",
     "text": [
      "tensor([[0.0183, 0.0405, 0.9412],\n",
      "        [0.0326, 0.0825, 0.8849],\n",
      "        [0.0184, 0.0400, 0.9416],\n",
      "        [0.0293, 0.0249, 0.9458],\n",
      "        [0.0195, 0.0435, 0.9370],\n",
      "        [0.0183, 0.0401, 0.9415],\n",
      "        [0.0184, 0.0403, 0.9414],\n",
      "        [0.0187, 0.0388, 0.9425],\n",
      "        [0.0184, 0.0417, 0.9399],\n",
      "        [0.0194, 0.3332, 0.6474],\n",
      "        [0.0291, 0.1754, 0.7955],\n",
      "        [0.0184, 0.0417, 0.9399],\n",
      "        [0.0183, 0.0417, 0.9399],\n",
      "        [0.0293, 0.0211, 0.9495],\n",
      "        [0.0210, 0.4197, 0.5593],\n",
      "        [0.0183, 0.0418, 0.9399],\n",
      "        [0.0219, 0.0237, 0.9545],\n",
      "        [0.0184, 0.0414, 0.9402],\n",
      "        [0.0183, 0.0399, 0.9417],\n",
      "        [0.0279, 0.2172, 0.7549],\n",
      "        [0.0184, 0.0417, 0.9399],\n",
      "        [0.0248, 0.0227, 0.9525],\n",
      "        [0.0184, 0.0417, 0.9399],\n",
      "        [0.0312, 0.0210, 0.9478],\n",
      "        [0.0247, 0.0238, 0.9514],\n",
      "        [0.0184, 0.0418, 0.9398],\n",
      "        [0.0330, 0.0180, 0.9490],\n",
      "        [0.0184, 0.0412, 0.9404],\n",
      "        [0.0266, 0.0245, 0.9489],\n",
      "        [0.0301, 0.1696, 0.8002],\n",
      "        [0.0184, 0.0414, 0.9402],\n",
      "        [0.0184, 0.0415, 0.9401],\n",
      "        [0.0253, 0.0233, 0.9514],\n",
      "        [0.0186, 0.0411, 0.9403],\n",
      "        [0.0415, 0.0147, 0.9438],\n",
      "        [0.0411, 0.0147, 0.9442],\n",
      "        [0.0186, 0.0402, 0.9412],\n",
      "        [0.0164, 0.0486, 0.9350],\n",
      "        [0.0362, 0.0866, 0.8771],\n",
      "        [0.0187, 0.0399, 0.9414],\n",
      "        [0.0188, 0.0397, 0.9415],\n",
      "        [0.0249, 0.0230, 0.9521],\n",
      "        [0.0277, 0.0266, 0.9457],\n",
      "        [0.0227, 0.0351, 0.9422],\n",
      "        [0.0187, 0.0399, 0.9414],\n",
      "        [0.0196, 0.0338, 0.9466],\n",
      "        [0.0188, 0.0396, 0.9416],\n",
      "        [0.0276, 0.2450, 0.7273],\n",
      "        [0.0408, 0.0161, 0.9432],\n",
      "        [0.7433, 0.0080, 0.2486],\n",
      "        [0.0209, 0.7818, 0.1972],\n",
      "        [0.0213, 0.1264, 0.8523],\n",
      "        [0.9329, 0.0145, 0.0527],\n",
      "        [0.8751, 0.0882, 0.0367],\n",
      "        [0.2205, 0.0677, 0.7118],\n",
      "        [0.1784, 0.4995, 0.3221],\n",
      "        [0.8229, 0.0907, 0.0864],\n",
      "        [0.0290, 0.9336, 0.0374],\n",
      "        [0.0873, 0.6660, 0.2467],\n",
      "        [0.0467, 0.0164, 0.9369],\n",
      "        [0.1649, 0.0177, 0.8174],\n",
      "        [0.0261, 0.1815, 0.7924],\n",
      "        [0.0382, 0.0399, 0.9220],\n",
      "        [0.0255, 0.0497, 0.9248],\n",
      "        [0.3225, 0.0613, 0.6162],\n",
      "        [0.0296, 0.0236, 0.9467],\n",
      "        [0.0401, 0.0164, 0.9435],\n",
      "        [0.7433, 0.0080, 0.2486],\n",
      "        [0.0209, 0.7818, 0.1972],\n",
      "        [0.0213, 0.1264, 0.8523],\n",
      "        [0.9492, 0.0152, 0.0356],\n",
      "        [0.0759, 0.8973, 0.0267],\n",
      "        [0.8006, 0.0468, 0.1527],\n",
      "        [0.2571, 0.3161, 0.4268],\n",
      "        [0.8098, 0.0815, 0.1087],\n",
      "        [0.1293, 0.7513, 0.1193],\n",
      "        [0.1150, 0.5505, 0.3345],\n",
      "        [0.0467, 0.0164, 0.9369],\n",
      "        [0.0517, 0.0284, 0.9199],\n",
      "        [0.0272, 0.1423, 0.8306],\n",
      "        [0.0357, 0.0663, 0.8980],\n",
      "        [0.0255, 0.0497, 0.9248],\n",
      "        [0.2420, 0.0550, 0.7030],\n",
      "        [0.0298, 0.0235, 0.9467],\n",
      "        [0.0106, 0.9363, 0.0531],\n",
      "        [0.0478, 0.8038, 0.1484],\n",
      "        [0.1594, 0.0312, 0.8095],\n",
      "        [0.0495, 0.6658, 0.2848],\n",
      "        [0.0159, 0.8149, 0.1693],\n",
      "        [0.0209, 0.7787, 0.2005],\n",
      "        [0.0125, 0.9102, 0.0773],\n",
      "        [0.0089, 0.9484, 0.0427],\n",
      "        [0.0271, 0.4196, 0.5533],\n",
      "        [0.0700, 0.7231, 0.2069],\n",
      "        [0.0243, 0.3564, 0.6194],\n",
      "        [0.0273, 0.6572, 0.3155],\n",
      "        [0.0183, 0.6289, 0.3527],\n",
      "        [0.0202, 0.8088, 0.1709],\n",
      "        [0.0812, 0.3934, 0.5254],\n",
      "        [0.0142, 0.8754, 0.1104]], grad_fn=<SoftmaxBackward0>)\n"
     ]
    }
   ],
   "source": [
    "predictions = torch.nn.functional.softmax(outputs.logits, dim=-1)\n",
    "print(predictions)"
   ]
  },
  {
   "cell_type": "code",
   "execution_count": 11,
   "metadata": {},
   "outputs": [
    {
     "data": {
      "text/html": [
       "<div>\n",
       "<style scoped>\n",
       "    .dataframe tbody tr th:only-of-type {\n",
       "        vertical-align: middle;\n",
       "    }\n",
       "\n",
       "    .dataframe tbody tr th {\n",
       "        vertical-align: top;\n",
       "    }\n",
       "\n",
       "    .dataframe thead th {\n",
       "        text-align: right;\n",
       "    }\n",
       "</style>\n",
       "<table border=\"1\" class=\"dataframe\">\n",
       "  <thead>\n",
       "    <tr style=\"text-align: right;\">\n",
       "      <th></th>\n",
       "      <th>Content</th>\n",
       "      <th>Positive</th>\n",
       "      <th>Negative</th>\n",
       "      <th>Neutral</th>\n",
       "    </tr>\n",
       "  </thead>\n",
       "  <tbody>\n",
       "    <tr>\n",
       "      <th>0</th>\n",
       "      <td>On February 1, 2018, Apple Inc. (“Apple”) issu...</td>\n",
       "      <td>0.018283</td>\n",
       "      <td>0.040490</td>\n",
       "      <td>0.941226</td>\n",
       "    </tr>\n",
       "    <tr>\n",
       "      <th>1</th>\n",
       "      <td>The Annual Meeting of Shareholders of Apple In...</td>\n",
       "      <td>0.032610</td>\n",
       "      <td>0.082458</td>\n",
       "      <td>0.884932</td>\n",
       "    </tr>\n",
       "    <tr>\n",
       "      <th>2</th>\n",
       "      <td>On May 1, 2018, Apple Inc. (“Apple”) issued a ...</td>\n",
       "      <td>0.018399</td>\n",
       "      <td>0.039997</td>\n",
       "      <td>0.941604</td>\n",
       "    </tr>\n",
       "    <tr>\n",
       "      <th>3</th>\n",
       "      <td>On April 30, 2018, the Superior Court of the S...</td>\n",
       "      <td>0.029314</td>\n",
       "      <td>0.024927</td>\n",
       "      <td>0.945759</td>\n",
       "    </tr>\n",
       "    <tr>\n",
       "      <th>4</th>\n",
       "      <td>On May 7, 2018, Apple Inc. filed a Current Rep...</td>\n",
       "      <td>0.019492</td>\n",
       "      <td>0.043459</td>\n",
       "      <td>0.937049</td>\n",
       "    </tr>\n",
       "    <tr>\n",
       "      <th>...</th>\n",
       "      <td>...</td>\n",
       "      <td>...</td>\n",
       "      <td>...</td>\n",
       "      <td>...</td>\n",
       "    </tr>\n",
       "    <tr>\n",
       "      <th>95</th>\n",
       "      <td>The Company could be impacted by unfavorable r...</td>\n",
       "      <td>0.027280</td>\n",
       "      <td>0.657235</td>\n",
       "      <td>0.315485</td>\n",
       "    </tr>\n",
       "    <tr>\n",
       "      <th>96</th>\n",
       "      <td>The Company is subject to laws and regulations...</td>\n",
       "      <td>0.018342</td>\n",
       "      <td>0.628947</td>\n",
       "      <td>0.352711</td>\n",
       "    </tr>\n",
       "    <tr>\n",
       "      <th>97</th>\n",
       "      <td>The Company’s business is subject to the risks...</td>\n",
       "      <td>0.020232</td>\n",
       "      <td>0.808822</td>\n",
       "      <td>0.170946</td>\n",
       "    </tr>\n",
       "    <tr>\n",
       "      <th>98</th>\n",
       "      <td>The Company’s retail stores have required and ...</td>\n",
       "      <td>0.081186</td>\n",
       "      <td>0.393395</td>\n",
       "      <td>0.525418</td>\n",
       "    </tr>\n",
       "    <tr>\n",
       "      <th>99</th>\n",
       "      <td>Investment in new business strategies and acqu...</td>\n",
       "      <td>0.014179</td>\n",
       "      <td>0.875391</td>\n",
       "      <td>0.110430</td>\n",
       "    </tr>\n",
       "  </tbody>\n",
       "</table>\n",
       "<p>100 rows × 4 columns</p>\n",
       "</div>"
      ],
      "text/plain": [
       "                                              Content  Positive  Negative  \\\n",
       "0   On February 1, 2018, Apple Inc. (“Apple”) issu...  0.018283  0.040490   \n",
       "1   The Annual Meeting of Shareholders of Apple In...  0.032610  0.082458   \n",
       "2   On May 1, 2018, Apple Inc. (“Apple”) issued a ...  0.018399  0.039997   \n",
       "3   On April 30, 2018, the Superior Court of the S...  0.029314  0.024927   \n",
       "4   On May 7, 2018, Apple Inc. filed a Current Rep...  0.019492  0.043459   \n",
       "..                                                ...       ...       ...   \n",
       "95  The Company could be impacted by unfavorable r...  0.027280  0.657235   \n",
       "96  The Company is subject to laws and regulations...  0.018342  0.628947   \n",
       "97  The Company’s business is subject to the risks...  0.020232  0.808822   \n",
       "98  The Company’s retail stores have required and ...  0.081186  0.393395   \n",
       "99  Investment in new business strategies and acqu...  0.014179  0.875391   \n",
       "\n",
       "     Neutral  \n",
       "0   0.941226  \n",
       "1   0.884932  \n",
       "2   0.941604  \n",
       "3   0.945759  \n",
       "4   0.937049  \n",
       "..       ...  \n",
       "95  0.315485  \n",
       "96  0.352711  \n",
       "97  0.170946  \n",
       "98  0.525418  \n",
       "99  0.110430  \n",
       "\n",
       "[100 rows x 4 columns]"
      ]
     },
     "execution_count": 11,
     "metadata": {},
     "output_type": "execute_result"
    }
   ],
   "source": [
    "positive = predictions[:, 0].tolist()\n",
    "negative = predictions[:, 1].tolist()\n",
    "neutral = predictions[:, 2].tolist()\n",
    "\n",
    "\n",
    "table = {'Content':content_list,\n",
    "         \"Positive\":positive,\n",
    "         \"Negative\":negative, \n",
    "         \"Neutral\":neutral}\n",
    "      \n",
    "result_df = pd.DataFrame(table, columns = [\"Content\", \"Positive\", \"Negative\", \"Neutral\"])\n",
    "\n",
    "\n",
    "result_df\n"
   ]
  },
  {
   "cell_type": "code",
   "execution_count": null,
   "metadata": {},
   "outputs": [],
   "source": [
    "result_df.to_excel('output_FinBert.xlsx')"
   ]
  },
  {
   "cell_type": "code",
   "execution_count": null,
   "metadata": {},
   "outputs": [],
   "source": [
    "# will find way to mitigate Kernel crash later on\n",
    "# will try to used sentiment analysis with baseline model"
   ]
  }
 ],
 "metadata": {
  "kernelspec": {
   "display_name": "base",
   "language": "python",
   "name": "python3"
  },
  "language_info": {
   "codemirror_mode": {
    "name": "ipython",
    "version": 3
   },
   "file_extension": ".py",
   "mimetype": "text/x-python",
   "name": "python",
   "nbconvert_exporter": "python",
   "pygments_lexer": "ipython3",
   "version": "3.9.12"
  },
  "orig_nbformat": 4
 },
 "nbformat": 4,
 "nbformat_minor": 2
}
